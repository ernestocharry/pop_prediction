{
 "cells": [
  {
   "cell_type": "markdown",
   "id": "dc20986b",
   "metadata": {},
   "source": [
    "Get the errors for each model"
   ]
  },
  {
   "cell_type": "code",
   "execution_count": 44,
   "id": "3025fbf3",
   "metadata": {},
   "outputs": [],
   "source": [
    "import numpy as np\n",
    "import pandas as pd\n",
    "import matplotlib.pyplot as plt"
   ]
  },
  {
   "cell_type": "code",
   "execution_count": 45,
   "id": "bdfd09fc",
   "metadata": {},
   "outputs": [],
   "source": [
    "smooth_model = pd.read_csv(\"smooth.csv\")\n",
    "ml_lineal_model = pd.read_csv(\"ml_lineal.csv\")"
   ]
  },
  {
   "cell_type": "code",
   "execution_count": 46,
   "id": "df01459c",
   "metadata": {},
   "outputs": [],
   "source": [
    "smooth_model['MSE'] = (smooth_model['value'] - smooth_model['value_mean'])**2\n",
    "smooth_model['MAE'] = (smooth_model['value'] - smooth_model['value_mean']).abs()\n",
    "smooth_model['MAPE'] = ((smooth_model['value'] - smooth_model['value_mean'])*100/smooth_model['value']).abs()\n",
    "\n",
    "ml_lineal_model['MSE'] = (ml_lineal_model['value_0'] - ml_lineal_model['value_KNeighbors'])**2\n",
    "ml_lineal_model['MAE'] = (ml_lineal_model['value_0'] - ml_lineal_model['value_KNeighbors']).abs()\n",
    "ml_lineal_model['MAPE'] = ((ml_lineal_model['value_0'] - ml_lineal_model['value_KNeighbors'])*100/ml_lineal_model['value_0']).abs()"
   ]
  },
  {
   "cell_type": "code",
   "execution_count": 47,
   "id": "7fe4aafa",
   "metadata": {},
   "outputs": [],
   "source": [
    "errors_smooth_per_year = smooth_model[ (smooth_model['date']>=2015) & (smooth_model['date']< 2020) ].groupby(by='date').sum()[['MSE', 'MAE', 'MAPE']]\n",
    "errors_smooth_per_year.to_csv('errors_smooth_per_year.csv')"
   ]
  },
  {
   "cell_type": "code",
   "execution_count": 48,
   "id": "62485de3",
   "metadata": {},
   "outputs": [],
   "source": [
    "errors_ml_lineal_per_year = ml_lineal_model[ (ml_lineal_model['date']>=2015) & (ml_lineal_model['date']< 2020) ].groupby(by='date').sum()[['MSE', 'MAE', 'MAPE']]\n",
    "errors_ml_lineal_per_year.to_csv('errors_ml_lineal_per_year.csv')"
   ]
  },
  {
   "cell_type": "code",
   "execution_count": null,
   "id": "a41978e3",
   "metadata": {},
   "outputs": [],
   "source": []
  }
 ],
 "metadata": {
  "kernelspec": {
   "display_name": "Python 3",
   "language": "python",
   "name": "python3"
  },
  "language_info": {
   "codemirror_mode": {
    "name": "ipython",
    "version": 3
   },
   "file_extension": ".py",
   "mimetype": "text/x-python",
   "name": "python",
   "nbconvert_exporter": "python",
   "pygments_lexer": "ipython3",
   "version": "3.8.5"
  }
 },
 "nbformat": 4,
 "nbformat_minor": 5
}
